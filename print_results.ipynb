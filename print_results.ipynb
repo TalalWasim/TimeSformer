{
 "cells": [
  {
   "cell_type": "code",
   "execution_count": 48,
   "id": "fb88584f-d614-479b-ba07-f61840c6e3d3",
   "metadata": {},
   "outputs": [],
   "source": [
    "import os\n",
    "import pandas as pd\n",
    "import ast\n",
    "from IPython.display import display"
   ]
  },
  {
   "cell_type": "code",
   "execution_count": 2,
   "id": "18bbe6d7-d0c1-4b9a-934a-c4950052f9d3",
   "metadata": {},
   "outputs": [],
   "source": [
    "res_path = './results'"
   ]
  },
  {
   "cell_type": "code",
   "execution_count": 9,
   "id": "b92d8489-3fc4-490b-861b-fe9aeddf7b96",
   "metadata": {},
   "outputs": [],
   "source": [
    "folders = []\n",
    "\n",
    "for f in os.listdir(res_path):\n",
    "    if not f.startswith('.'):\n",
    "        folders.append(f)\n",
    "\n",
    "\n",
    "folders = sorted(folders)"
   ]
  },
  {
   "cell_type": "code",
   "execution_count": 43,
   "id": "db41e66e-f8ff-49c3-aa6e-aeac7898d942",
   "metadata": {},
   "outputs": [],
   "source": [
    "out = dict()\n",
    "\n",
    "for folder in folders:\n",
    "    file_path = os.path.join(res_path, folder, 'stdout.log')\n",
    "    with open(file_path, 'r') as f:\n",
    "        data = f.read()\n",
    "    line = data.strip().split('\\n')[-1]\n",
    "    \n",
    "    folder_split = folder.split('_')\n",
    "    dataset = folder_split[-1]\n",
    "    del folder_split[-1]\n",
    "    eval_type = folder_split[-1]\n",
    "    del folder_split[-1]\n",
    "    name = '_'.join(folder_split)\n",
    "    \n",
    "    acc_dict = ast.literal_eval(line.split('json_stats: ')[-1])\n",
    "    top1 = float(acc_dict['top1_acc'])\n",
    "    top5 = float(acc_dict['top5_acc'])\n",
    "    \n",
    "    if dataset in out:\n",
    "        if name in out[dataset].keys():\n",
    "            out[dataset][name][eval_type+'_top1'] = top1\n",
    "            out[dataset][name][eval_type+'_top5'] = top5\n",
    "        else:\n",
    "            out[dataset][name] = dict()\n",
    "            out[dataset][name][eval_type+'_top1'] = top1\n",
    "            out[dataset][name][eval_type+'_top5'] = top5\n",
    "    else:\n",
    "        out[dataset] = dict()\n",
    "        out[dataset][name] = dict()\n",
    "        out[dataset][name][eval_type+'_top1'] = top1\n",
    "        out[dataset][name][eval_type+'_top5'] = top5"
   ]
  },
  {
   "cell_type": "code",
   "execution_count": 50,
   "id": "2292ff3f-c9cf-49cb-a0c7-e32ef2a3bde8",
   "metadata": {},
   "outputs": [
    {
     "name": "stdout",
     "output_type": "stream",
     "text": [
      "kinetics\n"
     ]
    },
    {
     "data": {
      "text/html": [
       "<div>\n",
       "<style scoped>\n",
       "    .dataframe tbody tr th:only-of-type {\n",
       "        vertical-align: middle;\n",
       "    }\n",
       "\n",
       "    .dataframe tbody tr th {\n",
       "        vertical-align: top;\n",
       "    }\n",
       "\n",
       "    .dataframe thead th {\n",
       "        text-align: right;\n",
       "    }\n",
       "</style>\n",
       "<table border=\"1\" class=\"dataframe\">\n",
       "  <thead>\n",
       "    <tr style=\"text-align: right;\">\n",
       "      <th></th>\n",
       "      <th>finetune_top1</th>\n",
       "      <th>finetune_top5</th>\n",
       "      <th>linear_top1</th>\n",
       "      <th>linear_top5</th>\n",
       "    </tr>\n",
       "  </thead>\n",
       "  <tbody>\n",
       "    <tr>\n",
       "      <th>svt_dino_30</th>\n",
       "      <td>70.77</td>\n",
       "      <td>89.23</td>\n",
       "      <td>64.96</td>\n",
       "      <td>86.24</td>\n",
       "    </tr>\n",
       "    <tr>\n",
       "      <th>svt_mae_30</th>\n",
       "      <td>72.67</td>\n",
       "      <td>91.24</td>\n",
       "      <td>57.11</td>\n",
       "      <td>81.74</td>\n",
       "    </tr>\n",
       "    <tr>\n",
       "      <th>svt_videomae_30_slice_0</th>\n",
       "      <td>70.12</td>\n",
       "      <td>89.94</td>\n",
       "      <td>50.70</td>\n",
       "      <td>76.90</td>\n",
       "    </tr>\n",
       "    <tr>\n",
       "      <th>svt_videomae_30_slice_1</th>\n",
       "      <td>69.83</td>\n",
       "      <td>89.58</td>\n",
       "      <td>50.09</td>\n",
       "      <td>76.30</td>\n",
       "    </tr>\n",
       "  </tbody>\n",
       "</table>\n",
       "</div>"
      ],
      "text/plain": [
       "                         finetune_top1  finetune_top5  linear_top1  \\\n",
       "svt_dino_30                      70.77          89.23        64.96   \n",
       "svt_mae_30                       72.67          91.24        57.11   \n",
       "svt_videomae_30_slice_0          70.12          89.94        50.70   \n",
       "svt_videomae_30_slice_1          69.83          89.58        50.09   \n",
       "\n",
       "                         linear_top5  \n",
       "svt_dino_30                    86.24  \n",
       "svt_mae_30                     81.74  \n",
       "svt_videomae_30_slice_0        76.90  \n",
       "svt_videomae_30_slice_1        76.30  "
      ]
     },
     "metadata": {},
     "output_type": "display_data"
    },
    {
     "name": "stdout",
     "output_type": "stream",
     "text": [
      "ucf101\n"
     ]
    },
    {
     "data": {
      "text/html": [
       "<div>\n",
       "<style scoped>\n",
       "    .dataframe tbody tr th:only-of-type {\n",
       "        vertical-align: middle;\n",
       "    }\n",
       "\n",
       "    .dataframe tbody tr th {\n",
       "        vertical-align: top;\n",
       "    }\n",
       "\n",
       "    .dataframe thead th {\n",
       "        text-align: right;\n",
       "    }\n",
       "</style>\n",
       "<table border=\"1\" class=\"dataframe\">\n",
       "  <thead>\n",
       "    <tr style=\"text-align: right;\">\n",
       "      <th></th>\n",
       "      <th>finetune_top1</th>\n",
       "      <th>finetune_top5</th>\n",
       "      <th>linear_top1</th>\n",
       "      <th>linear_top5</th>\n",
       "    </tr>\n",
       "  </thead>\n",
       "  <tbody>\n",
       "    <tr>\n",
       "      <th>svt_dino_30</th>\n",
       "      <td>90.75</td>\n",
       "      <td>98.76</td>\n",
       "      <td>87.55</td>\n",
       "      <td>98.12</td>\n",
       "    </tr>\n",
       "    <tr>\n",
       "      <th>svt_mae_30</th>\n",
       "      <td>89.96</td>\n",
       "      <td>98.55</td>\n",
       "      <td>78.22</td>\n",
       "      <td>95.48</td>\n",
       "    </tr>\n",
       "    <tr>\n",
       "      <th>svt_videomae_30_slice_0</th>\n",
       "      <td>87.05</td>\n",
       "      <td>98.55</td>\n",
       "      <td>72.98</td>\n",
       "      <td>93.58</td>\n",
       "    </tr>\n",
       "    <tr>\n",
       "      <th>svt_videomae_30_slice_1</th>\n",
       "      <td>87.47</td>\n",
       "      <td>98.65</td>\n",
       "      <td>73.04</td>\n",
       "      <td>93.26</td>\n",
       "    </tr>\n",
       "  </tbody>\n",
       "</table>\n",
       "</div>"
      ],
      "text/plain": [
       "                         finetune_top1  finetune_top5  linear_top1  \\\n",
       "svt_dino_30                      90.75          98.76        87.55   \n",
       "svt_mae_30                       89.96          98.55        78.22   \n",
       "svt_videomae_30_slice_0          87.05          98.55        72.98   \n",
       "svt_videomae_30_slice_1          87.47          98.65        73.04   \n",
       "\n",
       "                         linear_top5  \n",
       "svt_dino_30                    98.12  \n",
       "svt_mae_30                     95.48  \n",
       "svt_videomae_30_slice_0        93.58  \n",
       "svt_videomae_30_slice_1        93.26  "
      ]
     },
     "metadata": {},
     "output_type": "display_data"
    }
   ],
   "source": [
    "for k in out:\n",
    "    print(k)\n",
    "    df = pd.DataFrame(out[k]).T\n",
    "    display(df)"
   ]
  },
  {
   "cell_type": "code",
   "execution_count": null,
   "id": "9fd8339a-cd42-4463-912a-3e2eb641c6db",
   "metadata": {},
   "outputs": [],
   "source": []
  }
 ],
 "metadata": {
  "kernelspec": {
   "display_name": "Python 3 (ipykernel)",
   "language": "python",
   "name": "python3"
  },
  "language_info": {
   "codemirror_mode": {
    "name": "ipython",
    "version": 3
   },
   "file_extension": ".py",
   "mimetype": "text/x-python",
   "name": "python",
   "nbconvert_exporter": "python",
   "pygments_lexer": "ipython3",
   "version": "3.8.13"
  }
 },
 "nbformat": 4,
 "nbformat_minor": 5
}
